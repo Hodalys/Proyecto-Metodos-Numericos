{
 "cells": [
  {
   "cell_type": "code",
   "execution_count": 3,
   "id": "f58861fd",
   "metadata": {},
   "outputs": [
    {
     "name": "stdout",
     "output_type": "stream",
     "text": [
      "data_base\\US_Accidents_March23.csv\n"
     ]
    }
   ],
   "source": [
    "import numpy as np\n",
    "import pandas as pd\n",
    "import seaborn as sns\n",
    "import matplotlib.pyplot as plt\n",
    "\n",
    "pd.set_option('display.max_columns', None)\n",
    "pd.set_option('display.float_format', lambda x: '%.3f' % x)\n",
    "pd.set_option('display.width', 500)\n",
    "\n",
    "\n",
    "from datetime import date\n",
    "from sklearn.neighbors import LocalOutlierFactor  #Detección de valores atípicos\n",
    "from sklearn.preprocessing import LabelEncoder\n",
    "\n",
    "import os\n",
    "for dirname, _, filenames in os.walk('data_base'):\n",
    "    for filename in filenames:\n",
    "        print(os.path.join(dirname, filename))"
   ]
  },
  {
   "cell_type": "code",
   "execution_count": 4,
   "id": "b4ffcf9f",
   "metadata": {},
   "outputs": [],
   "source": [
    "# Cargar el conjunto de datos\n",
    "data=pd.read_csv('data_base/US_Accidents_March23.csv')"
   ]
  },
  {
   "cell_type": "code",
   "execution_count": 5,
   "id": "a807c6c2",
   "metadata": {},
   "outputs": [
    {
     "name": "stdout",
     "output_type": "stream",
     "text": [
      "Index(['ID', 'Source', 'Severity', 'Start_Time', 'End_Time', 'Start_Lat', 'Start_Lng', 'End_Lat', 'End_Lng', 'Distance(mi)', 'Description', 'Street', 'City', 'County', 'State', 'Zipcode', 'Country', 'Timezone', 'Airport_Code', 'Weather_Timestamp', 'Temperature(F)', 'Wind_Chill(F)', 'Humidity(%)', 'Pressure(in)', 'Visibility(mi)', 'Wind_Direction', 'Wind_Speed(mph)', 'Precipitation(in)', 'Weather_Condition', 'Amenity', 'Bump', 'Crossing', 'Give_Way', 'Junction', 'No_Exit', 'Railway',\n",
      "       'Roundabout', 'Station', 'Stop', 'Traffic_Calming', 'Traffic_Signal', 'Turning_Loop', 'Sunrise_Sunset', 'Civil_Twilight', 'Nautical_Twilight', 'Astronomical_Twilight'],\n",
      "      dtype='object')\n"
     ]
    }
   ],
   "source": [
    "print(data.columns)"
   ]
  },
  {
   "cell_type": "code",
   "execution_count": 6,
   "id": "804bfdfc",
   "metadata": {},
   "outputs": [
    {
     "data": {
      "text/html": [
       "<div>\n",
       "<style scoped>\n",
       "    .dataframe tbody tr th:only-of-type {\n",
       "        vertical-align: middle;\n",
       "    }\n",
       "\n",
       "    .dataframe tbody tr th {\n",
       "        vertical-align: top;\n",
       "    }\n",
       "\n",
       "    .dataframe thead th {\n",
       "        text-align: right;\n",
       "    }\n",
       "</style>\n",
       "<table border=\"1\" class=\"dataframe\">\n",
       "  <thead>\n",
       "    <tr style=\"text-align: right;\">\n",
       "      <th></th>\n",
       "      <th>Weather_Condition</th>\n",
       "      <th>City</th>\n",
       "      <th>Start_Time</th>\n",
       "      <th>Severity</th>\n",
       "    </tr>\n",
       "  </thead>\n",
       "  <tbody>\n",
       "    <tr>\n",
       "      <th>0</th>\n",
       "      <td>Light Rain</td>\n",
       "      <td>Dayton</td>\n",
       "      <td>2016-02-08 05:46:00</td>\n",
       "      <td>3</td>\n",
       "    </tr>\n",
       "    <tr>\n",
       "      <th>1</th>\n",
       "      <td>Light Rain</td>\n",
       "      <td>Reynoldsburg</td>\n",
       "      <td>2016-02-08 06:07:59</td>\n",
       "      <td>2</td>\n",
       "    </tr>\n",
       "    <tr>\n",
       "      <th>2</th>\n",
       "      <td>Overcast</td>\n",
       "      <td>Williamsburg</td>\n",
       "      <td>2016-02-08 06:49:27</td>\n",
       "      <td>2</td>\n",
       "    </tr>\n",
       "    <tr>\n",
       "      <th>3</th>\n",
       "      <td>Mostly Cloudy</td>\n",
       "      <td>Dayton</td>\n",
       "      <td>2016-02-08 07:23:34</td>\n",
       "      <td>3</td>\n",
       "    </tr>\n",
       "    <tr>\n",
       "      <th>4</th>\n",
       "      <td>Mostly Cloudy</td>\n",
       "      <td>Dayton</td>\n",
       "      <td>2016-02-08 07:39:07</td>\n",
       "      <td>2</td>\n",
       "    </tr>\n",
       "  </tbody>\n",
       "</table>\n",
       "</div>"
      ],
      "text/plain": [
       "  Weather_Condition          City           Start_Time  Severity\n",
       "0        Light Rain        Dayton  2016-02-08 05:46:00         3\n",
       "1        Light Rain  Reynoldsburg  2016-02-08 06:07:59         2\n",
       "2          Overcast  Williamsburg  2016-02-08 06:49:27         2\n",
       "3     Mostly Cloudy        Dayton  2016-02-08 07:23:34         3\n",
       "4     Mostly Cloudy        Dayton  2016-02-08 07:39:07         2"
      ]
     },
     "execution_count": 6,
     "metadata": {},
     "output_type": "execute_result"
    }
   ],
   "source": [
    "# Retorna las primeras 5 filas del DataFrame\n",
    "data[['Weather_Condition', 'City', 'Start_Time', 'Severity']].head()\n",
    "#data.head()"
   ]
  },
  {
   "cell_type": "code",
   "execution_count": 7,
   "id": "f4a42a31",
   "metadata": {},
   "outputs": [
    {
     "name": "stdout",
     "output_type": "stream",
     "text": [
      "<class 'pandas.core.frame.DataFrame'>\n",
      "RangeIndex: 7728394 entries, 0 to 7728393\n",
      "Data columns (total 46 columns):\n",
      " #   Column                 Dtype  \n",
      "---  ------                 -----  \n",
      " 0   ID                     object \n",
      " 1   Source                 object \n",
      " 2   Severity               int64  \n",
      " 3   Start_Time             object \n",
      " 4   End_Time               object \n",
      " 5   Start_Lat              float64\n",
      " 6   Start_Lng              float64\n",
      " 7   End_Lat                float64\n",
      " 8   End_Lng                float64\n",
      " 9   Distance(mi)           float64\n",
      " 10  Description            object \n",
      " 11  Street                 object \n",
      " 12  City                   object \n",
      " 13  County                 object \n",
      " 14  State                  object \n",
      " 15  Zipcode                object \n",
      " 16  Country                object \n",
      " 17  Timezone               object \n",
      " 18  Airport_Code           object \n",
      " 19  Weather_Timestamp      object \n",
      " 20  Temperature(F)         float64\n",
      " 21  Wind_Chill(F)          float64\n",
      " 22  Humidity(%)            float64\n",
      " 23  Pressure(in)           float64\n",
      " 24  Visibility(mi)         float64\n",
      " 25  Wind_Direction         object \n",
      " 26  Wind_Speed(mph)        float64\n",
      " 27  Precipitation(in)      float64\n",
      " 28  Weather_Condition      object \n",
      " 29  Amenity                bool   \n",
      " 30  Bump                   bool   \n",
      " 31  Crossing               bool   \n",
      " 32  Give_Way               bool   \n",
      " 33  Junction               bool   \n",
      " 34  No_Exit                bool   \n",
      " 35  Railway                bool   \n",
      " 36  Roundabout             bool   \n",
      " 37  Station                bool   \n",
      " 38  Stop                   bool   \n",
      " 39  Traffic_Calming        bool   \n",
      " 40  Traffic_Signal         bool   \n",
      " 41  Turning_Loop           bool   \n",
      " 42  Sunrise_Sunset         object \n",
      " 43  Civil_Twilight         object \n",
      " 44  Nautical_Twilight      object \n",
      " 45  Astronomical_Twilight  object \n",
      "dtypes: bool(13), float64(12), int64(1), object(20)\n",
      "memory usage: 2.0+ GB\n"
     ]
    }
   ],
   "source": [
    "data.info()"
   ]
  },
  {
   "cell_type": "code",
   "execution_count": 8,
   "id": "624e32ef",
   "metadata": {},
   "outputs": [],
   "source": [
    "# Convertir la columna 'Start_Time' a tipo datetime y extraer la hora con el formato día/noche\n",
    "data['Start_Time'] = pd.to_datetime(data['Start_Time'], errors='coerce')\n",
    "data['Start_Hour'] =  data['Start_Time'].dt.hour\n",
    "data['Time_Of_Day'] = data['Start_Hour'].apply(lambda x: 'noche' if x < 6 or x >= 18 else 'día')\n",
    "\n",
    "# Definir las columnas a utilizar\n",
    "columns_to_use = ['Weather_Condition', 'Time_Of_Day', 'City', 'Severity']\n",
    "df = data[columns_to_use].copy()  # Extraer esas columnas reales del DataFrame\n",
    "df.columns = ['Clima', 'Hora_Del_Dia', 'Ciudad', 'Gravedad']  # Renombrar las columnas\n",
    "\n",
    "# Transformar las columnas categóricas en números \n",
    "le_Clima = LabelEncoder()\n",
    "le_Ciudad = LabelEncoder()\n",
    "le_Hora_Del_Dia = LabelEncoder()\n",
    "\n",
    "df['Clima'] = le_Clima.fit_transform(df['Clima'])\n",
    "df['Ciudad'] = le_Ciudad.fit_transform(df['Ciudad'])\n",
    "df['Hora_Del_Dia'] = le_Hora_Del_Dia.fit_transform(df['Hora_Del_Dia'])"
   ]
  },
  {
   "cell_type": "code",
   "execution_count": 39,
   "id": "a92988b1",
   "metadata": {
    "vscode": {
     "languageId": "html"
    }
   },
   "outputs": [
    {
     "data": {
      "text/plain": [
       "'\\'\\'\\nprint(\"Codificación de clima:\")\\nfor i, clase in enumerate(le_Clima.classes_):\\n    print(f\"{clase} → {i}\")\\n\\nprint(\"\\nCodificación de ciudad:\")\\nfor i, clase in enumerate(le_Ciudad.classes_):\\n    print(f\"{clase} → {i}\")\\n'"
      ]
     },
     "execution_count": 39,
     "metadata": {},
     "output_type": "execute_result"
    }
   ],
   "source": [
    "'''''\n",
    "print(\"Codificación de clima:\")\n",
    "for i, clase in enumerate(le_Clima.classes_):\n",
    "    print(f\"{clase} → {i}\")\n",
    "\n",
    "print(\"\\nCodificación de ciudad:\")\n",
    "for i, clase in enumerate(le_Ciudad.classes_):\n",
    "    print(f\"{clase} → {i}\")\n",
    "'''''"
   ]
  },
  {
   "cell_type": "code",
   "execution_count": 9,
   "id": "d6bf99d7",
   "metadata": {},
   "outputs": [
    {
     "data": {
      "text/html": [
       "<div>\n",
       "<style scoped>\n",
       "    .dataframe tbody tr th:only-of-type {\n",
       "        vertical-align: middle;\n",
       "    }\n",
       "\n",
       "    .dataframe tbody tr th {\n",
       "        vertical-align: top;\n",
       "    }\n",
       "\n",
       "    .dataframe thead th {\n",
       "        text-align: right;\n",
       "    }\n",
       "</style>\n",
       "<table border=\"1\" class=\"dataframe\">\n",
       "  <thead>\n",
       "    <tr style=\"text-align: right;\">\n",
       "      <th></th>\n",
       "      <th>Clima</th>\n",
       "      <th>Hora_Del_Dia</th>\n",
       "      <th>Ciudad</th>\n",
       "      <th>Gravedad</th>\n",
       "    </tr>\n",
       "  </thead>\n",
       "  <tbody>\n",
       "    <tr>\n",
       "      <th>0</th>\n",
       "      <td>62</td>\n",
       "      <td>1</td>\n",
       "      <td>2894</td>\n",
       "      <td>3</td>\n",
       "    </tr>\n",
       "    <tr>\n",
       "      <th>1</th>\n",
       "      <td>62</td>\n",
       "      <td>0</td>\n",
       "      <td>10195</td>\n",
       "      <td>2</td>\n",
       "    </tr>\n",
       "    <tr>\n",
       "      <th>2</th>\n",
       "      <td>88</td>\n",
       "      <td>0</td>\n",
       "      <td>13347</td>\n",
       "      <td>2</td>\n",
       "    </tr>\n",
       "    <tr>\n",
       "      <th>3</th>\n",
       "      <td>85</td>\n",
       "      <td>0</td>\n",
       "      <td>2894</td>\n",
       "      <td>3</td>\n",
       "    </tr>\n",
       "    <tr>\n",
       "      <th>4</th>\n",
       "      <td>85</td>\n",
       "      <td>0</td>\n",
       "      <td>2894</td>\n",
       "      <td>2</td>\n",
       "    </tr>\n",
       "  </tbody>\n",
       "</table>\n",
       "</div>"
      ],
      "text/plain": [
       "   Clima  Hora_Del_Dia  Ciudad  Gravedad\n",
       "0     62             1    2894         3\n",
       "1     62             0   10195         2\n",
       "2     88             0   13347         2\n",
       "3     85             0    2894         3\n",
       "4     85             0    2894         2"
      ]
     },
     "execution_count": 9,
     "metadata": {},
     "output_type": "execute_result"
    }
   ],
   "source": [
    "df.head()"
   ]
  },
  {
   "cell_type": "code",
   "execution_count": 10,
   "id": "cd2a3424",
   "metadata": {},
   "outputs": [],
   "source": [
    "# Preparar la matriz para mínimos cuadrados de forma matricial Ax=y\n",
    "A = df[['Clima', 'Hora_Del_Dia', 'Ciudad']].to_numpy()\n",
    "n = A.shape[0]\n",
    "A = np.hstack([A, np.ones((n, 1))])  # Agregar columna de 1s para el término independiente y formar la matriz A\n",
    "\n",
    "y = df['Gravedad'].to_numpy() # Vector de resultados"
   ]
  },
  {
   "cell_type": "code",
   "execution_count": 11,
   "id": "bebbb372",
   "metadata": {},
   "outputs": [],
   "source": [
    "def gauss_seidel(A, b, x0=None, tol=1e-8, N=1000):\n",
    "    \"\"\"\n",
    "    Parámetros:\n",
    "        A : matriz de coeficientes\n",
    "        b : vector de términos independientes\n",
    "        x0 : vector inicial (opcional)\n",
    "        tol : tolerancia para el criterio de parada\n",
    "        N : número máximo de iteraciones\n",
    "    Retorna:\n",
    "        x : solución aproximada\n",
    "        k : número de iteraciones realizadas\n",
    "    \"\"\"\n",
    "    n = len(b)\n",
    "    x = x0.copy()\n",
    "    for k in range(1, N + 1):\n",
    "        x_new = np.copy(x)\n",
    "        for i in range(n):\n",
    "            s1 = sum(A[i, j] * x_new[j] for j in range(i))\n",
    "            s2 = sum(A[i, j] * x[j] for j in range(i + 1, n))\n",
    "            x_new[i] = (b[i] - s1 - s2) / A[i, i]\n",
    "        if np.linalg.norm(x_new - x, ord=np.inf) < tol:\n",
    "            print(f\"Convergencia alcanzada en {k} iteraciones.\")\n",
    "            return x_new, k\n",
    "        x = x_new\n",
    "    print(\"Número máximo de iteraciones excedido. El procedimiento no fue exitoso.\")\n",
    "    return x"
   ]
  },
  {
   "cell_type": "code",
   "execution_count": 13,
   "id": "65167a0a",
   "metadata": {},
   "outputs": [],
   "source": [
    "def matriz_transpuesta(A):\n",
    "    \"\"\"\n",
    "    Parámetro:\n",
    "        A: matriz de coeficientes\n",
    "    Retorna:\n",
    "        transpuesta: matriz transpuesta de A\n",
    "    \"\"\"\n",
    "    if not A or not A[0]:\n",
    "        return []\n",
    "    filas = len(A)\n",
    "    columnas = len(A[0])\n",
    "    transpuesta = []\n",
    "    for j in range(columnas):\n",
    "        nueva_fila = []\n",
    "        for i in range(filas):\n",
    "            nueva_fila.append(A[i][j])\n",
    "        transpuesta.append(nueva_fila)\n",
    "    return transpuesta"
   ]
  },
  {
   "cell_type": "code",
   "execution_count": 16,
   "id": "b399125f",
   "metadata": {},
   "outputs": [],
   "source": [
    "def multiplicar_matrices(A, B):\n",
    "    \"\"\"\n",
    "    Parámetros:\n",
    "        A: matriz de tamaño m x n\n",
    "        B: matriz de tamaño n x p\n",
    "    Retorna:\n",
    "        resultado: matriz de tamaño m x p\n",
    "    \"\"\"\n",
    "    if not A or not B or len(A[0]) != len(B):\n",
    "        raise ValueError(\"Las dimensiones de las matrices no son compatibles para la multiplicación.\")\n",
    "    m, n, p = len(A), len(B), len(B[0])\n",
    "    resultado = []\n",
    "    for i in range(m):\n",
    "        fila = []\n",
    "        for j in range(p):\n",
    "            suma = 0\n",
    "            for k in range(n):\n",
    "                suma += A[i][k] * B[k][j]\n",
    "            fila.append(suma)\n",
    "        resultado.append(fila)\n",
    "    return resultado"
   ]
  },
  {
   "cell_type": "code",
   "execution_count": 21,
   "id": "482baad5",
   "metadata": {},
   "outputs": [],
   "source": [
    "list_A = A.tolist()\n",
    "list_y = [[val] for val in y]  # convertir y en columna\n",
    "AT = matriz_transpuesta(list_A) # A^T\n",
    "ATA = multiplicar_matrices(AT, list_A)  # A^T * A\n",
    "ATy = multiplicar_matrices(AT, list_y)  # A^T * y"
   ]
  },
  {
   "cell_type": "code",
   "execution_count": null,
   "id": "2ad53a36",
   "metadata": {},
   "outputs": [
    {
     "name": "stdout",
     "output_type": "stream",
     "text": [
      "Convergencia alcanzada en 68 iteraciones.\n"
     ]
    }
   ],
   "source": [
    "# Resolver el sistema de ecuaciones normales A^T * A * x = A^T * y\n",
    "# Tranformación a numpy array\n",
    "ATA = np.array(ATA, dtype=float)\n",
    "ATy = np.array(ATy, dtype=float)\n",
    "x0 = np.zeros(len(ATy))  # Vector inicial de ceros\n",
    "x, k = gauss_seidel(ATA, ATy, x0=x0)"
   ]
  },
  {
   "cell_type": "code",
   "execution_count": null,
   "id": "d83f4042",
   "metadata": {},
   "outputs": [
    {
     "name": "stdout",
     "output_type": "stream",
     "text": [
      "La gravedad predicha del accidente es aproximadamente: 2.19\n"
     ]
    }
   ],
   "source": [
    "clima_nuevo = 3\n",
    "hora_nueva = 0\n",
    "ciudad_nueva = 25\n",
    "\n",
    "# Predicción\n",
    "gravedad_predicha = (\n",
    "    x[0] * clima_nuevo +\n",
    "    x[1] * hora_nueva +\n",
    "    x[2] * ciudad_nueva +\n",
    "    x[3]  # término independiente\n",
    ")\n",
    "\n",
    "print(f\"La gravedad predicha del accidente es aproximadamente: {gravedad_predicha:.2f}\")"
   ]
  }
 ],
 "metadata": {
  "kernelspec": {
   "display_name": "base",
   "language": "python",
   "name": "python3"
  },
  "language_info": {
   "codemirror_mode": {
    "name": "ipython",
    "version": 3
   },
   "file_extension": ".py",
   "mimetype": "text/x-python",
   "name": "python",
   "nbconvert_exporter": "python",
   "pygments_lexer": "ipython3",
   "version": "3.12.4"
  }
 },
 "nbformat": 4,
 "nbformat_minor": 5
}
